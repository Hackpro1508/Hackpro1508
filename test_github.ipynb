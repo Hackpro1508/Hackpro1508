{
  "nbformat": 4,
  "nbformat_minor": 0,
  "metadata": {
    "colab": {
      "name": "test github.ipynb",
      "provenance": [],
      "authorship_tag": "ABX9TyMP4SxA7x0fV1F9KKTsIH2g",
      "include_colab_link": true
    },
    "kernelspec": {
      "name": "python3",
      "display_name": "Python 3"
    },
    "language_info": {
      "name": "python"
    }
  },
  "cells": [
    {
      "cell_type": "markdown",
      "metadata": {
        "id": "view-in-github",
        "colab_type": "text"
      },
      "source": [
        "<a href=\"https://colab.research.google.com/github/Hackpro1508/Hackpro1508/blob/main/test_github.ipynb\" target=\"_parent\"><img src=\"https://colab.research.google.com/assets/colab-badge.svg\" alt=\"Open In Colab\"/></a>"
      ]
    },
    {
      "cell_type": "code",
      "execution_count": 1,
      "metadata": {
        "colab": {
          "base_uri": "https://localhost:8080/"
        },
        "id": "T7jhDG5QtXnr",
        "outputId": "16801ad6-5b53-4686-fef4-50bbacbe4842"
      },
      "outputs": [
        {
          "output_type": "stream",
          "name": "stdout",
          "text": [
            "Iam NguyenVanHieu\n"
          ]
        }
      ],
      "source": [
        "print('Iam NguyenVanHieu')"
      ]
    }
  ]
}